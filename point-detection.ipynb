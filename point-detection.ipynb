{
 "cells": [
  {
   "cell_type": "code",
   "execution_count": 2,
   "id": "3c47d329",
   "metadata": {},
   "outputs": [
    {
     "ename": "ModuleNotFoundError",
     "evalue": "No module named 'pointdet'",
     "output_type": "error",
     "traceback": [
      "\u001b[0;31m---------------------------------------------------------------------------\u001b[0m",
      "\u001b[0;31mModuleNotFoundError\u001b[0m                       Traceback (most recent call last)",
      "\u001b[0;32m/tmp/ipykernel_17398/1499461094.py\u001b[0m in \u001b[0;36m<module>\u001b[0;34m\u001b[0m\n\u001b[1;32m      2\u001b[0m \u001b[0;32mimport\u001b[0m \u001b[0mmatplotlib\u001b[0m\u001b[0;34m.\u001b[0m\u001b[0mpyplot\u001b[0m \u001b[0;32mas\u001b[0m \u001b[0mplt\u001b[0m\u001b[0;34m\u001b[0m\u001b[0;34m\u001b[0m\u001b[0m\n\u001b[1;32m      3\u001b[0m \u001b[0;32mfrom\u001b[0m \u001b[0mmatplotlib\u001b[0m \u001b[0;32mimport\u001b[0m \u001b[0mcm\u001b[0m\u001b[0;34m\u001b[0m\u001b[0;34m\u001b[0m\u001b[0m\n\u001b[0;32m----> 4\u001b[0;31m \u001b[0;32mfrom\u001b[0m \u001b[0mpointdet\u001b[0m\u001b[0;34m.\u001b[0m\u001b[0mutils\u001b[0m\u001b[0;34m.\u001b[0m\u001b[0mnucprop\u001b[0m \u001b[0;32mimport\u001b[0m \u001b[0mgenereate_log_cfgs\u001b[0m\u001b[0;34m\u001b[0m\u001b[0;34m\u001b[0m\u001b[0m\n\u001b[0m\u001b[1;32m      5\u001b[0m \u001b[0;32mfrom\u001b[0m \u001b[0mpointdet\u001b[0m\u001b[0;34m.\u001b[0m\u001b[0mutils\u001b[0m\u001b[0;34m.\u001b[0m\u001b[0mnucprop\u001b[0m \u001b[0;32mimport\u001b[0m \u001b[0mNucleiPropagator\u001b[0m\u001b[0;34m\u001b[0m\u001b[0;34m\u001b[0m\u001b[0m\n\u001b[1;32m      6\u001b[0m \u001b[0;32mfrom\u001b[0m \u001b[0mpointdet\u001b[0m\u001b[0;34m.\u001b[0m\u001b[0mutils\u001b[0m\u001b[0;34m.\u001b[0m\u001b[0mdatasets\u001b[0m \u001b[0;32mimport\u001b[0m \u001b[0mPointsDataset\u001b[0m\u001b[0;34m\u001b[0m\u001b[0;34m\u001b[0m\u001b[0m\n",
      "\u001b[0;31mModuleNotFoundError\u001b[0m: No module named 'pointdet'"
     ]
    }
   ],
   "source": [
    "import numpy as np\n",
    "import matplotlib.pyplot as plt\n",
    "from matplotlib import cm\n",
    "from pointdet.utils.nucprop import genereate_log_cfgs\n",
    "from pointdet.utils.nucprop import NucleiPropagator\n",
    "from pointdet.utils.datasets import PointsDataset"
   ]
  },
  {
   "cell_type": "code",
   "execution_count": null,
   "id": "6c245c29",
   "metadata": {},
   "outputs": [],
   "source": [
    "files_list = \"../dataset_composed/all.txt\"\n",
    "\n",
    "alb_transforms = None\n",
    "endo_dataset = PointsDataset(\n",
    "    files_list, \n",
    "    alb_transforms = None,\n",
    "    keypoints_dtype=float\n",
    ")"
   ]
  },
  {
   "cell_type": "code",
   "execution_count": null,
   "id": "c85a6f0c",
   "metadata": {},
   "outputs": [],
   "source": [
    "endo_dataset[0].keys()"
   ]
  },
  {
   "cell_type": "code",
   "execution_count": null,
   "id": "dd1712bf",
   "metadata": {},
   "outputs": [],
   "source": [
    "keypoints = endo_dataset[0]['keypoints']"
   ]
  },
  {
   "cell_type": "code",
   "execution_count": null,
   "id": "24772754",
   "metadata": {},
   "outputs": [],
   "source": [
    "keypoints.y_coords()"
   ]
  },
  {
   "cell_type": "code",
   "execution_count": null,
   "id": "cc6bf464",
   "metadata": {},
   "outputs": [],
   "source": [
    "endo_dataset.visualize(7)"
   ]
  },
  {
   "cell_type": "code",
   "execution_count": null,
   "id": "60063d6d",
   "metadata": {},
   "outputs": [],
   "source": [
    "endo_dataset[0]['image']"
   ]
  },
  {
   "cell_type": "markdown",
   "id": "43fb31b9",
   "metadata": {},
   "source": [
    "### тут начинается моя работа с картинкой"
   ]
  },
  {
   "cell_type": "code",
   "execution_count": null,
   "id": "37194654",
   "metadata": {},
   "outputs": [],
   "source": []
  }
 ],
 "metadata": {
  "kernelspec": {
   "display_name": "test_venvs",
   "language": "python",
   "name": "test_venvs"
  },
  "language_info": {
   "codemirror_mode": {
    "name": "ipython",
    "version": 3
   },
   "file_extension": ".py",
   "mimetype": "text/x-python",
   "name": "python",
   "nbconvert_exporter": "python",
   "pygments_lexer": "ipython3",
   "version": "3.8.10"
  }
 },
 "nbformat": 4,
 "nbformat_minor": 5
}
