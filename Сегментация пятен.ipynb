{
 "cells": [
  {
   "cell_type": "code",
   "execution_count": 1,
   "metadata": {},
   "outputs": [],
   "source": [
    "import cv2\n",
    "import math\n",
    "import numpy as np\n",
    "import matplotlib.pyplot as plt"
   ]
  },
  {
   "cell_type": "code",
   "execution_count": 2,
   "metadata": {},
   "outputs": [],
   "source": [
    "img = cv2.imread('spot.png', cv2.IMREAD_GRAYSCALE) # считываем картинку\n",
    "cv2.imshow('spot', img) # выводим на экран\n",
    "cv2.waitKey(0)\n",
    "cv2.destroyAllWindows()"
   ]
  },
  {
   "cell_type": "code",
   "execution_count": 3,
   "metadata": {},
   "outputs": [
    {
     "name": "stdout",
     "output_type": "stream",
     "text": [
      "Высота:308\n",
      "Ширина:301\n"
     ]
    }
   ],
   "source": [
    "print(\"Высота:\"+str(img.shape[0]))\n",
    "print(\"Ширина:\" + str(img.shape[1]))"
   ]
  },
  {
   "cell_type": "markdown",
   "metadata": {},
   "source": [
    "Центральные направления"
   ]
  },
  {
   "cell_type": "code",
   "execution_count": 5,
   "metadata": {},
   "outputs": [],
   "source": [
    "center_line = int(img.shape[0]) // 2 # центральная строка\n",
    "center_column = int(img.shape[1]) // 2 # центральный столбец"
   ]
  },
  {
   "cell_type": "markdown",
   "metadata": {},
   "source": [
    "### Эксперимент с горизонтальным направлением\n",
    "Рассмотрим отдельно центральную строку изображения. Выведем ее значения, затем вычислим градиент и убедимся на графиках, что рисутствуют 2 пика."
   ]
  },
  {
   "cell_type": "code",
   "execution_count": 6,
   "metadata": {},
   "outputs": [
    {
     "name": "stdout",
     "output_type": "stream",
     "text": [
      "[255 255 255 255 255 255 255 255 255 255 255 255 255 255 255 255 255 255\n",
      " 255 255 255 255 255 255 255 255 255 255 255 255 255 255 255 255 255 255\n",
      " 255   0   0   0   0   0   0   0   0   0   0   0   0   0   0   0   0   0\n",
      "   0   0   0   0   0   0   0   0   0   0   0   0   0   0   0   0   0   0\n",
      "   0   0   0   0   0   0   0   0   0   0   0   0   0   0   0   0   0   0\n",
      "   0   0   0   0   0   0   0   0   0   0   0   0   0   0   0   0   0   0\n",
      "   0   0   0   0   0   0   0   0   0   0   0   0   0   0   0   0   0   0\n",
      "   0   0   0   0   0   0   0   0   0   0   0   0   0   0   0   0   0   0\n",
      "   0   0   0   0   0   0   0   0   0   0   0   0   0   0   0   0   0   0\n",
      "   0   0   0   0   0   0   0   0   0   0   0   0   0   0   0   0   0   0\n",
      "   0   0   0   0   0   0   0   0   0   0   0   0   0   0   0   0   0   0\n",
      "   0   0   0   0   0   0   0   0   0   0   0   0   0   0   0   0   0   0\n",
      "   0   0   0   0   0   0   0   0   0   0   0   0   0   0   0   0   0   0\n",
      "   0   0   0   0   0   0   0   0   0 255 255 255 255 255 255 255 255 255\n",
      " 255 255 255 255 255 255 255 255 255 255 255 255 255 255 255 255 255 255\n",
      " 255 255 255 255 255 255 255 255 255 255 255 255 255 255 255 255 255 255\n",
      " 255 255 255 255 255 255 255 255 255 255 255 255 255]\n"
     ]
    }
   ],
   "source": [
    "s = np.array(list(map(int, img[center_line]))) \n",
    "print(s)"
   ]
  },
  {
   "cell_type": "code",
   "execution_count": 7,
   "metadata": {},
   "outputs": [
    {
     "data": {
      "image/png": "[encoded data removed]",
      "text/plain": [
       "<Figure size 432x288 with 1 Axes>"
      ]
     },
     "metadata": {
      "needs_background": "light"
     },
     "output_type": "display_data"
    }
   ],
   "source": [
    "x = np.arange(img.shape[1]) # размер строки\n",
    "y = s\n",
    "plt.figure()\n",
    "plt.plot(x, y)\n",
    "plt.show()"
   ]
  },
  {
   "cell_type": "markdown",
   "metadata": {},
   "source": [
    "Строим градиент и видим 2 пика"
   ]
  },
  {
   "cell_type": "code",
   "execution_count": 8,
   "metadata": {},
   "outputs": [
    {
     "data": {
      "image/png": "[encoded data removed]",
      "text/plain": [
       "<Figure size 432x288 with 1 Axes>"
      ]
     },
     "metadata": {
      "needs_background": "light"
     },
     "output_type": "display_data"
    }
   ],
   "source": [
    "grad = np.zeros(img.shape[1] - 1)\n",
    "for i in range(img.shape[1] - 1):\n",
    "    grad[i] = abs(y[i+1] - y[i])\n",
    "plt.figure()\n",
    "plt.plot(x[:img.shape[1] - 1], grad)\n",
    "plt.show()"
   ]
  },
  {
   "cell_type": "markdown",
   "metadata": {},
   "source": [
    "### Теперь с наклонным напралением\n",
    "Усложним задачу: выделим направление, отобразим его на картинке, вычислим градиент и найдем его экстремумы.\n",
    "Идея построения направления: переносим начало координат в центр изображения и строим его сначала вправо от центра, потом влево."
   ]
  },
  {
   "cell_type": "code",
   "execution_count": 9,
   "metadata": {},
   "outputs": [],
   "source": [
    "res_1 = cv2.imread('spot.png', cv2.IMREAD_COLOR) # здесь будет результат\n",
    "\n",
    "bright = np.zeros(img.shape[1]) # массив для значений яркости\n",
    "bright.fill(255)\n",
    "\n",
    "alpha = math.pi / 3  # угол направления с горизонталью\n",
    "k = math.tan(alpha)\n",
    "\n",
    "coordinates = np.zeros(img.shape[1]) # номера строк соотв-е номерам столбцов для направления\n",
    "# проход вправо\n",
    "x = center_column\n",
    "y = center_line\n",
    "while y > 0 and x < img.shape[1]:\n",
    "    bright[int(x)] = img[math.ceil(y), x]\n",
    "    coordinates[x] = math.ceil(y)\n",
    "    res_1[math.ceil(y), int(x)] = 220 \n",
    "    x += 1\n",
    "    y -= k\n",
    "# проход влево\n",
    "x = int(center_column)\n",
    "y = int(center_line)\n",
    "while y < img.shape[0] and x > 0:\n",
    "    bright[x] = img[math.floor(y), x]\n",
    "    coordinates[x] = math.floor(y)\n",
    "    res_1[math.floor(y), x] = 220 \n",
    "    x -= 1\n",
    "    y += k\n",
    "\n",
    "grad = np.zeros(img.shape[1] - 1)\n",
    "for i in range(img.shape[1] - 1):\n",
    "    grad[i] = abs(bright[i+1] - bright[i])  \n",
    "    \n",
    "# проход по первой половине массива\n",
    "max_bright = 0\n",
    "index = 0\n",
    "for i in range(int(center_column)):\n",
    "    if grad[i] > max_bright:\n",
    "        max_bright = grad[i]\n",
    "        index = i + 1\n",
    "res_1[int(coordinates[index]), index] = (0, 0, 255)\n",
    "\n",
    "# проход по второй половине массива\n",
    "max_bright = 0\n",
    "index = 0\n",
    "for i in range(img.shape[1] - 2, center_column, -1):\n",
    "    if grad[i] > max_bright:\n",
    "        max_bright = grad[i]\n",
    "        index = i\n",
    "res_1[int(coordinates[index]), index] = (0, 0, 255)\n",
    "\n",
    "cv2.imshow('result', res_1)\n",
    "cv2.waitKey(0)\n",
    "cv2.destroyAllWindows()"
   ]
  },
  {
   "cell_type": "markdown",
   "metadata": {},
   "source": [
    "### Общий случай\n",
    "Сначала задаем кол-во направлений, затем вычисляем по ним градиенты яркости как в предыдущем примере и отмечаем точки пиков на изображении. Потом соединяем полученные точки и имеем примерные границы пятна."
   ]
  },
  {
   "cell_type": "code",
   "execution_count": 10,
   "metadata": {},
   "outputs": [
    {
     "data": {
      "text/plain": [
       "Text(0.5, 1.0, \"<class 'numpy.ndarray'>\")"
      ]
     },
     "execution_count": 10,
     "metadata": {},
     "output_type": "execute_result"
    },
    {
     "data": {
      "image/png": "[encoded data removed]",
      "text/plain": [
       "<Figure size 432x288 with 1 Axes>"
      ]
     },
     "metadata": {
      "needs_background": "light"
     },
     "output_type": "display_data"
    }
   ],
   "source": [
    "image = plt.imread('spot.png')\n",
    "fig, ax = plt.subplots()\n",
    "ax.imshow(image)\n",
    "ax.set_title(type(image))"
   ]
  },
  {
   "cell_type": "code",
   "execution_count": 19,
   "metadata": {
    "scrolled": false
   },
   "outputs": [
    {
     "name": "stdout",
     "output_type": "stream",
     "text": [
      "30\n"
     ]
    }
   ],
   "source": [
    "res = cv2.imread('spot.png', cv2.IMREAD_COLOR) # здесь будет сегментрованное изображение\n",
    "n = int(input()) # кол-во прямых-направлений\n",
    "lines = 100\n",
    "for i in range(n):\n",
    "    bright = np.zeros(img.shape[1]) # массив для значений яркости\n",
    "    vertical_bright = np.zeros(img.shape[0]) # отдельно для вертикального направления\n",
    "    bright.fill(255)\n",
    "    alpha = i * math.pi / n # угол между соседними направлениями\n",
    "    k = math.tan(alpha)\n",
    "    coordinates = np.zeros(img.shape[1]) # номера строк соотв-е номерам столбцов для направления\n",
    "    \n",
    "    if i == 0: # случай горизонтального направления\n",
    "        bright = np.array(list(map(int, img[center_line])))\n",
    "        coordinates.fill(center_line)\n",
    "        #res[center_line] = lines\n",
    "        \n",
    "    elif i == n / 2: # случай вертикального направления\n",
    "        vertical_bright = np.array(list(map(int, img[:,center_column])))\n",
    "        coordinates = np.arange(img.shape[1])\n",
    "        #res[:,center_column] = lines\n",
    "        \n",
    "    elif i < n / 2:           # 1 и 3 четвери\n",
    "        x = center_column\n",
    "        y = center_line\n",
    "        while y > 0 and x < img.shape[1]:\n",
    "            bright[int(x)] = img[int(y), x]\n",
    "            coordinates[x] = int(y)\n",
    "            #res[math.ceil(y), int(x)] = lines\n",
    "            x += 1\n",
    "            y -= k\n",
    "        x = center_column\n",
    "        y = center_line\n",
    "        while y < img.shape[0] and x > 0:\n",
    "            bright[x] = img[int(y), x]\n",
    "            coordinates[x] = int(y)\n",
    "            #res[math.floor(y), int(x)] = lines\n",
    "            x -= 1\n",
    "            y += k\n",
    "            \n",
    "    elif i > n / 2 and i < n:           # 2 и 4 четверти\n",
    "        x = center_column\n",
    "        y = center_line\n",
    "        while y > 0 and x > 0:\n",
    "            bright[x] = img[int(y), x]\n",
    "            coordinates[x] = int(y)\n",
    "            #res[math.floor(y), int(x)] = lines\n",
    "            x -= 1\n",
    "            y += k\n",
    "        x = center_column\n",
    "        y = center_line\n",
    "        while y < img.shape[0] and x < img.shape[1]:\n",
    "            bright[x] = img[int(y), x]\n",
    "            coordinates[x] = int(y)\n",
    "            #res[math.ceil(y), int(x)] = lines\n",
    "            x += 1\n",
    "            y -= k\n",
    "    \n",
    "    if i != n / 2:\n",
    "        grad = np.zeros(img.shape[1] - 1)\n",
    "        for i in range(img.shape[1] - 1):\n",
    "            grad[i] = abs(bright[i+1] - bright[i])\n",
    "        \n",
    "        # идем с начала массива и находим максимум\n",
    "        first = 0\n",
    "        max_grad = 0\n",
    "        for i in range(int(center_column)):\n",
    "            if grad[i] > max_grad:\n",
    "                max_grad = grad[i]\n",
    "                first = i\n",
    "            \n",
    "        # идем с конца массиваи\n",
    "        last = img.shape[1] - 2\n",
    "        max_grad = 0\n",
    "        for i in range(img.shape[1] - 2, int(center_column), -1):\n",
    "            if grad[i] > max_grad:\n",
    "                max_grad = grad[i]\n",
    "                last = i\n",
    "    #print(grad)\n",
    "    \n",
    "        #res[coordinates.astype(int)[first], first] = (0, 0, 255)\n",
    "        #res[coordinates.astype(int)[last], last] = (0, 0, 255)\n",
    "\n",
    "        cv2.circle(res, (first, coordinates.astype(int)[first]), radius=1, color=(0, 0, 255), thickness=-1)\n",
    "        cv2.circle(res, (last, coordinates.astype(int)[last]), radius=1, color=(0, 0, 255), thickness=-1)\n",
    "    \n",
    "    if i == n / 2:\n",
    "        grad = np.zeros(img.shape[0] - 1)\n",
    "        for i in range(img.shape[0] - 1):\n",
    "            grad[i] = abs(vertical_bright[i+1] - vertical_bright[i])\n",
    "            \n",
    "        # идем с начала массива и находим максимум\n",
    "        first = 0\n",
    "        max_grad = 0\n",
    "        for i in range(int(center_line)):\n",
    "            if grad[i] > max_grad:\n",
    "                max_grad = grad[i]\n",
    "                first = i\n",
    "            \n",
    "        # идем с конца массиваи\n",
    "        last = img.shape[0] - 2\n",
    "        max_grad = 0\n",
    "        for i in range(img.shape[0] - 2, int(center_line), -1):\n",
    "            if grad[i] > max_grad:\n",
    "                max_grad = grad[i]\n",
    "                last = i\n",
    "        \n",
    "        #res[first, center_column] = (0, 0, 255)\n",
    "        #res[last, center_column] = (0, 0, 255)\n",
    "        \n",
    "        cv2.circle(res, (center_column, first), radius=1, color=(0, 0, 255), thickness=-1)\n",
    "        cv2.circle(res, (center_column, last), radius=1, color=(0, 0, 255), thickness=-1)\n",
    "        \n",
    "\n",
    "cv2.imshow('result', res)\n",
    "cv2.waitKey(0)\n",
    "cv2.destroyAllWindows()"
   ]
  },
  {
   "cell_type": "markdown",
   "metadata": {},
   "source": [
    "### Теперь попробуем сделать то же самое, но с применением Sobel фильтра"
   ]
  },
  {
   "cell_type": "code",
   "execution_count": 29,
   "metadata": {},
   "outputs": [],
   "source": [
    "s_grad = cv2.Sobel(img, cv2.CV_32F, 1, 1, 5)\n",
    "cv2.imshow('s_grad', s_grad)\n",
    "cv2.waitKey(0)\n",
    "cv2.destroyAllWindows()"
   ]
  },
  {
   "cell_type": "code",
   "execution_count": null,
   "metadata": {},
   "outputs": [],
   "source": []
  }
 ],
 "metadata": {
  "kernelspec": {
   "display_name": "Python 3",
   "language": "python",
   "name": "python3"
  },
  "language_info": {
   "codemirror_mode": {
    "name": "ipython",
    "version": 3
   },
   "file_extension": ".py",
   "mimetype": "text/x-python",
   "name": "python",
   "nbconvert_exporter": "python",
   "pygments_lexer": "ipython3",
   "version": "3.7.6"
  }
 },
 "nbformat": 4,
 "nbformat_minor": 4
}
