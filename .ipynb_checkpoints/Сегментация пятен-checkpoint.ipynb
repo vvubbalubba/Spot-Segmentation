{
 "cells": [
  {
   "cell_type": "code",
   "execution_count": 1,
   "metadata": {},
   "outputs": [],
   "source": [
    "import cv2\n",
    "import math\n",
    "import numpy as np\n",
    "import matplotlib.pyplot as plt"
   ]
  },
  {
   "cell_type": "code",
   "execution_count": 5,
   "metadata": {},
   "outputs": [],
   "source": [
    "img = cv2.imread('spot.png', cv2.IMREAD_GRAYSCALE) # считываем картинку\n",
    "cv2.imshow('spot', img) # выводим на экран\n",
    "cv2.waitKey(0)\n",
    "cv2.destroyAllWindows()"
   ]
  },
  {
   "cell_type": "code",
   "execution_count": 11,
   "metadata": {},
   "outputs": [
    {
     "data": {
      "text/plain": [
       "<matplotlib.image.AxesImage at 0x7fc260f67f40>"
      ]
     },
     "execution_count": 11,
     "metadata": {},
     "output_type": "execute_result"
    },
    {
     "data": {
      "image/png": "[encoded data removed]",
      "text/plain": [
       "<Figure size 432x288 with 1 Axes>"
      ]
     },
     "metadata": {
      "needs_background": "light"
     },
     "output_type": "display_data"
    }
   ],
   "source": [
    "plt.imshow(img, cmap='gray')"
   ]
  },
  {
   "cell_type": "code",
   "execution_count": 18,
   "metadata": {},
   "outputs": [
    {
     "name": "stdout",
     "output_type": "stream",
     "text": [
      "Высота:308\n",
      "Ширина:301\n"
     ]
    }
   ],
   "source": [
    "print(\"Высота:\"+str(img.shape[0]))\n",
    "print(\"Ширина:\" + str(img.shape[1]))\n",
    "a = img.shape[0]\n",
    "b = img.shape[1]"
   ]
  },
  {
   "cell_type": "markdown",
   "metadata": {},
   "source": [
    "Центральные направления"
   ]
  },
  {
   "cell_type": "code",
   "execution_count": 13,
   "metadata": {},
   "outputs": [],
   "source": [
    "center_line = int(img.shape[0]) // 2 # центральная строка\n",
    "center_column = int(img.shape[1]) // 2 # центральный столбец"
   ]
  },
  {
   "cell_type": "markdown",
   "metadata": {},
   "source": [
    "### Эксперимент с горизонтальным направлением\n",
    "Рассмотрим отдельно центральную строку изображения. Выведем ее значения, затем вычислим градиент и убедимся на графиках, что рисутствуют 2 пика."
   ]
  },
  {
   "cell_type": "code",
   "execution_count": 14,
   "metadata": {},
   "outputs": [
    {
     "name": "stdout",
     "output_type": "stream",
     "text": [
      "[255 255 255 255 255 255 255 255 255 255 255 255 255 255 255 255 255 255\n",
      " 255 255 255 255 255 255 255 255 255 255 255 255 255 255 255 255 255 255\n",
      " 255   0   0   0   0   0   0   0   0   0   0   0   0   0   0   0   0   0\n",
      "   0   0   0   0   0   0   0   0   0   0   0   0   0   0   0   0   0   0\n",
      "   0   0   0   0   0   0   0   0   0   0   0   0   0   0   0   0   0   0\n",
      "   0   0   0   0   0   0   0   0   0   0   0   0   0   0   0   0   0   0\n",
      "   0   0   0   0   0   0   0   0   0   0   0   0   0   0   0   0   0   0\n",
      "   0   0   0   0   0   0   0   0   0   0   0   0   0   0   0   0   0   0\n",
      "   0   0   0   0   0   0   0   0   0   0   0   0   0   0   0   0   0   0\n",
      "   0   0   0   0   0   0   0   0   0   0   0   0   0   0   0   0   0   0\n",
      "   0   0   0   0   0   0   0   0   0   0   0   0   0   0   0   0   0   0\n",
      "   0   0   0   0   0   0   0   0   0   0   0   0   0   0   0   0   0   0\n",
      "   0   0   0   0   0   0   0   0   0   0   0   0   0   0   0   0   0   0\n",
      "   0   0   0   0   0   0   0   0   0 255 255 255 255 255 255 255 255 255\n",
      " 255 255 255 255 255 255 255 255 255 255 255 255 255 255 255 255 255 255\n",
      " 255 255 255 255 255 255 255 255 255 255 255 255 255 255 255 255 255 255\n",
      " 255 255 255 255 255 255 255 255 255 255 255 255 255]\n"
     ]
    }
   ],
   "source": [
    "s = np.array(list(map(int, img[center_line]))) \n",
    "print(s)"
   ]
  },
  {
   "cell_type": "code",
   "execution_count": 15,
   "metadata": {},
   "outputs": [
    {
     "data": {
      "image/png": "[encoded data removed]",
      "text/plain": [
       "<Figure size 432x288 with 1 Axes>"
      ]
     },
     "metadata": {
      "needs_background": "light"
     },
     "output_type": "display_data"
    }
   ],
   "source": [
    "x = np.arange(img.shape[1]) # размер строки\n",
    "y = s\n",
    "plt.figure()\n",
    "plt.plot(x, y)\n",
    "plt.show()"
   ]
  },
  {
   "cell_type": "markdown",
   "metadata": {},
   "source": [
    "Строим градиент и видим 2 пика"
   ]
  },
  {
   "cell_type": "code",
   "execution_count": 16,
   "metadata": {},
   "outputs": [
    {
     "data": {
      "image/png": "[encoded data removed]",
      "text/plain": [
       "<Figure size 432x288 with 1 Axes>"
      ]
     },
     "metadata": {
      "needs_background": "light"
     },
     "output_type": "display_data"
    }
   ],
   "source": [
    "grad = np.zeros(img.shape[1] - 1)\n",
    "for i in range(img.shape[1] - 1):\n",
    "    grad[i] = abs(y[i+1] - y[i])\n",
    "plt.figure()\n",
    "plt.plot(x[:img.shape[1] - 1], grad)\n",
    "plt.show()"
   ]
  },
  {
   "cell_type": "markdown",
   "metadata": {},
   "source": [
    "### Теперь с наклонным напралением\n",
    "Усложним задачу: выделим направление, отобразим его на картинке, вычислим градиент и найдем его экстремумы.\n",
    "Идея построения направления: переносим начало координат в центр изображения и строим его сначала вправо от центра, потом влево."
   ]
  },
  {
   "cell_type": "code",
   "execution_count": 17,
   "metadata": {},
   "outputs": [],
   "source": [
    "res_1 = cv2.imread('spot.png', cv2.IMREAD_COLOR) # здесь будет результат\n",
    "\n",
    "bright = np.zeros(img.shape[1]) # массив для значений яркости\n",
    "bright.fill(255)\n",
    "\n",
    "alpha = math.pi / 3  # угол направления с горизонталью\n",
    "k = math.tan(alpha)\n",
    "\n",
    "coordinates = np.zeros(img.shape[1]) # номера строк соотв-е номерам столбцов для направления\n",
    "# проход вправо\n",
    "x = center_column\n",
    "y = center_line\n",
    "while y > 0 and x < img.shape[1]:\n",
    "    bright[int(x)] = img[math.ceil(y), x]\n",
    "    coordinates[x] = math.ceil(y)\n",
    "    res_1[math.ceil(y), int(x)] = 220 \n",
    "    x += 1\n",
    "    y -= k\n",
    "# проход влево\n",
    "x = int(center_column)\n",
    "y = int(center_line)\n",
    "while y < img.shape[0] and x > 0:\n",
    "    bright[x] = img[math.floor(y), x]\n",
    "    coordinates[x] = math.floor(y)\n",
    "    res_1[math.floor(y), x] = 220 \n",
    "    x -= 1\n",
    "    y += k\n",
    "\n",
    "grad = np.zeros(img.shape[1] - 1)\n",
    "for i in range(img.shape[1] - 1):\n",
    "    grad[i] = abs(bright[i+1] - bright[i])  \n",
    "    \n",
    "# проход по первой половине массива\n",
    "max_bright = 0\n",
    "index = 0\n",
    "for i in range(int(center_column)):\n",
    "    if grad[i] > max_bright:\n",
    "        max_bright = grad[i]\n",
    "        index = i + 1\n",
    "res_1[int(coordinates[index]), index] = (0, 0, 255)\n",
    "\n",
    "# проход по второй половине массива\n",
    "max_bright = 0\n",
    "index = 0\n",
    "for i in range(img.shape[1] - 2, center_column, -1):\n",
    "    if grad[i] > max_bright:\n",
    "        max_bright = grad[i]\n",
    "        index = i\n",
    "res_1[int(coordinates[index]), index] = (0, 0, 255)\n",
    "\n",
    "cv2.imshow('result', res_1)\n",
    "cv2.waitKey(0)\n",
    "cv2.destroyAllWindows()"
   ]
  },
  {
   "cell_type": "markdown",
   "metadata": {},
   "source": [
    "### Общий случай\n",
    "Сначала задаем кол-во направлений, затем вычисляем по ним градиенты яркости как в предыдущем примере и отмечаем точки пиков на изображении. Потом соединяем полученные точки и имеем примерные границы пятна."
   ]
  },
  {
   "cell_type": "code",
   "execution_count": 10,
   "metadata": {},
   "outputs": [
    {
     "data": {
      "text/plain": [
       "Text(0.5, 1.0, \"<class 'numpy.ndarray'>\")"
      ]
     },
     "execution_count": 10,
     "metadata": {},
     "output_type": "execute_result"
    },
    {
     "data": {
      "image/png": "[encoded data removed]",
      "text/plain": [
       "<Figure size 432x288 with 1 Axes>"
      ]
     },
     "metadata": {
      "needs_background": "light"
     },
     "output_type": "display_data"
    }
   ],
   "source": [
    "image = plt.imread('spot.png')\n",
    "fig, ax = plt.subplots()\n",
    "ax.imshow(image)\n",
    "ax.set_title(type(image))"
   ]
  },
  {
   "cell_type": "markdown",
   "metadata": {},
   "source": [
    "## Черновик"
   ]
  },
  {
   "cell_type": "code",
   "execution_count": 19,
   "metadata": {
    "scrolled": false
   },
   "outputs": [
    {
     "name": "stdout",
     "output_type": "stream",
     "text": [
      "30\n"
     ]
    }
   ],
   "source": [
    "res = cv2.imread('spot.png', cv2.IMREAD_COLOR) # здесь будет сегментрованное изображение\n",
    "\n",
    "n = int(input()) # кол-во прямых-направлений\n",
    "\n",
    "for i in range(n):\n",
    "    \n",
    "    bright = np.zeros(img.shape[1]) # массив для значений яркости\n",
    "    vertical_bright = np.zeros(img.shape[0]) # отдельно для вертикального направления\n",
    "    bright.fill(255)\n",
    "    \n",
    "    alpha = i * math.pi / n # угол между соседними направлениями\n",
    "    k = math.tan(alpha)\n",
    "    coordinates = np.zeros(img.shape[1]) # номера строк соотв-е номерам столбцов для направления\n",
    "    \n",
    "    if i == 0: # случай горизонтального направления\n",
    "        bright = np.array(list(map(int, img[center_line])))\n",
    "        coordinates.fill(center_line)\n",
    "        \n",
    "    elif i == n / 2: # случай вертикального направления\n",
    "        vertical_bright = np.array(list(map(int, img[:,center_column])))\n",
    "        coordinates = np.arange(img.shape[1])\n",
    "        \n",
    "    elif i < n / 2:           # 1 и 3 четвери\n",
    "        x = center_column\n",
    "        y = center_line\n",
    "        while y > 0 and x < img.shape[1]:\n",
    "            bright[int(x)] = img[int(y), x]\n",
    "            coordinates[x] = int(y)\n",
    "            #res[math.ceil(y), int(x)] = lines\n",
    "            x += 1\n",
    "            y -= k\n",
    "        x = center_column\n",
    "        y = center_line\n",
    "        while y < img.shape[0] and x > 0:\n",
    "            bright[x] = img[int(y), x]\n",
    "            coordinates[x] = int(y)\n",
    "            #res[math.floor(y), int(x)] = lines\n",
    "            x -= 1\n",
    "            y += k\n",
    "            \n",
    "    elif i > n / 2 and i < n:           # 2 и 4 четверти\n",
    "        x = center_column\n",
    "        y = center_line\n",
    "        while y > 0 and x > 0:\n",
    "            bright[x] = img[int(y), x]\n",
    "            coordinates[x] = int(y)\n",
    "            #res[math.floor(y), int(x)] = lines\n",
    "            x -= 1\n",
    "            y += k\n",
    "        x = center_column\n",
    "        y = center_line\n",
    "        while y < img.shape[0] and x < img.shape[1]:\n",
    "            bright[x] = img[int(y), x]\n",
    "            coordinates[x] = int(y)\n",
    "            #res[math.ceil(y), int(x)] = lines\n",
    "            x += 1\n",
    "            y -= k\n",
    "    \n",
    "    if i != n / 2:\n",
    "        grad = np.zeros(img.shape[1] - 1)\n",
    "        for i in range(img.shape[1] - 1):\n",
    "            grad[i] = abs(bright[i+1] - bright[i])\n",
    "        \n",
    "        # идем с начала массива и находим максимум\n",
    "        first = 0\n",
    "        max_grad = 0\n",
    "        for i in range(int(center_column)):\n",
    "            if grad[i] > max_grad:\n",
    "                max_grad = grad[i]\n",
    "                first = i\n",
    "            \n",
    "        # идем с конца массиваи\n",
    "        last = img.shape[1] - 2\n",
    "        max_grad = 0\n",
    "        for i in range(img.shape[1] - 2, int(center_column), -1):\n",
    "            if grad[i] > max_grad:\n",
    "                max_grad = grad[i]\n",
    "                last = i\n",
    "    #print(grad)\n",
    "    \n",
    "        #res[coordinates.astype(int)[first], first] = (0, 0, 255)\n",
    "        #res[coordinates.astype(int)[last], last] = (0, 0, 255)\n",
    "\n",
    "        cv2.circle(res, (first, coordinates.astype(int)[first]), radius=1, color=(0, 0, 255), thickness=-1)\n",
    "        cv2.circle(res, (last, coordinates.astype(int)[last]), radius=1, color=(0, 0, 255), thickness=-1)\n",
    "    \n",
    "    if i == n / 2: # отдельно случай вертикального направления\n",
    "        grad = np.zeros(img.shape[0] - 1)\n",
    "        for i in range(img.shape[0] - 1):\n",
    "            grad[i] = abs(vertical_bright[i+1] - vertical_bright[i])\n",
    "            \n",
    "        # идем с начала массива и находим максимум\n",
    "        first = 0\n",
    "        max_grad = 0\n",
    "        for i in range(int(center_line)):\n",
    "            if grad[i] > max_grad:\n",
    "                max_grad = grad[i]\n",
    "                first = i\n",
    "            \n",
    "        # идем с конца массиваи\n",
    "        last = img.shape[0] - 2\n",
    "        max_grad = 0\n",
    "        for i in range(img.shape[0] - 2, int(center_line), -1):\n",
    "            if grad[i] > max_grad:\n",
    "                max_grad = grad[i]\n",
    "                last = i\n",
    "        \n",
    "        #res[first, center_column] = (0, 0, 255)\n",
    "        #res[last, center_column] = (0, 0, 255)\n",
    "        \n",
    "        cv2.circle(res, (center_column, first), radius=1, color=(0, 0, 255), thickness=-1)\n",
    "        cv2.circle(res, (center_column, last), radius=1, color=(0, 0, 255), thickness=-1)\n",
    "        \n",
    "\n",
    "cv2.imshow('result', res)\n",
    "cv2.waitKey(0)\n",
    "cv2.destroyAllWindows()"
   ]
  },
  {
   "cell_type": "markdown",
   "metadata": {},
   "source": [
    "# Чистовик"
   ]
  },
  {
   "cell_type": "code",
   "execution_count": 45,
   "metadata": {},
   "outputs": [
    {
     "name": "stdout",
     "output_type": "stream",
     "text": [
      "(array([255, 255, 255, 255, 255, 255, 255, 255, 255, 255, 255, 255, 255,\n",
      "       255, 255, 255, 255, 255, 255, 255, 255, 255, 255, 255, 255, 255,\n",
      "       255, 255, 255, 255, 255, 255, 255, 255, 255, 255, 255,   0,   0,\n",
      "         0,   0,   0,   0,   0,   0,   0,   0,   0,   0,   0,   0,   0,\n",
      "         0,   0,   0,   0,   0,   0,   0,   0,   0,   0,   0,   0,   0,\n",
      "         0,   0,   0,   0,   0,   0,   0,   0,   0,   0,   0,   0,   0,\n",
      "         0,   0,   0,   0,   0,   0,   0,   0,   0,   0,   0,   0,   0,\n",
      "         0,   0,   0,   0,   0,   0,   0,   0,   0,   0,   0,   0,   0,\n",
      "         0,   0,   0,   0,   0,   0,   0,   0,   0,   0,   0,   0,   0,\n",
      "         0,   0,   0,   0,   0,   0,   0,   0,   0,   0,   0,   0,   0,\n",
      "         0,   0,   0,   0,   0,   0,   0,   0,   0,   0,   0,   0,   0,\n",
      "         0,   0,   0,   0,   0,   0,   0,   0,   0,   0,   0,   0,   0,\n",
      "         0,   0,   0,   0,   0,   0,   0,   0,   0,   0,   0,   0,   0,\n",
      "         0,   0,   0,   0,   0,   0,   0,   0,   0,   0,   0,   0,   0,\n",
      "         0,   0,   0,   0,   0,   0,   0,   0,   0,   0,   0,   0,   0,\n",
      "         0,   0,   0,   0,   0,   0,   0,   0,   0,   0,   0,   0,   0,\n",
      "         0,   0,   0,   0,   0,   0,   0,   0,   0,   0,   0,   0,   0,\n",
      "         0,   0,   0,   0,   0,   0,   0,   0,   0,   0,   0,   0,   0,\n",
      "         0,   0,   0,   0,   0,   0,   0,   0,   0, 255, 255, 255, 255,\n",
      "       255, 255, 255, 255, 255, 255, 255, 255, 255, 255, 255, 255, 255,\n",
      "       255, 255, 255, 255, 255, 255, 255, 255, 255, 255, 255, 255, 255,\n",
      "       255, 255, 255, 255, 255, 255, 255, 255, 255, 255, 255, 255, 255,\n",
      "       255, 255, 255, 255, 255, 255, 255, 255, 255, 255, 255, 255, 255,\n",
      "       255, 255], dtype=uint8), array([[154., 154., 154., 154., 154., 154., 154., 154., 154., 154., 154.,\n",
      "        154., 154., 154., 154., 154., 154., 154., 154., 154., 154., 154.,\n",
      "        154., 154., 154., 154., 154., 154., 154., 154., 154., 154., 154.,\n",
      "        154., 154., 154., 154., 154., 154., 154., 154., 154., 154., 154.,\n",
      "        154., 154., 154., 154., 154., 154., 154., 154., 154., 154., 154.,\n",
      "        154., 154., 154., 154., 154., 154., 154., 154., 154., 154., 154.,\n",
      "        154., 154., 154., 154., 154., 154., 154., 154., 154., 154., 154.,\n",
      "        154., 154., 154., 154., 154., 154., 154., 154., 154., 154., 154.,\n",
      "        154., 154., 154., 154., 154., 154., 154., 154., 154., 154., 154.,\n",
      "        154., 154., 154., 154., 154., 154., 154., 154., 154., 154., 154.,\n",
      "        154., 154., 154., 154., 154., 154., 154., 154., 154., 154., 154.,\n",
      "        154., 154., 154., 154., 154., 154., 154., 154., 154., 154., 154.,\n",
      "        154., 154., 154., 154., 154., 154., 154., 154., 154., 154., 154.,\n",
      "        154., 154., 154., 154., 154., 154., 154., 154., 154., 154., 154.,\n",
      "        154., 154., 154., 154., 154., 154., 154., 154., 154., 154., 154.,\n",
      "        154., 154., 154., 154., 154., 154., 154., 154., 154., 154., 154.,\n",
      "        154., 154., 154., 154., 154., 154., 154., 154., 154., 154., 154.,\n",
      "        154., 154., 154., 154., 154., 154., 154., 154., 154., 154., 154.,\n",
      "        154., 154., 154., 154., 154., 154., 154., 154., 154., 154., 154.,\n",
      "        154., 154., 154., 154., 154., 154., 154., 154., 154., 154., 154.,\n",
      "        154., 154., 154., 154., 154., 154., 154., 154., 154., 154., 154.,\n",
      "        154., 154., 154., 154., 154., 154., 154., 154., 154., 154., 154.,\n",
      "        154., 154., 154., 154., 154., 154., 154., 154., 154., 154., 154.,\n",
      "        154., 154., 154., 154., 154., 154., 154., 154., 154., 154., 154.,\n",
      "        154., 154., 154., 154., 154., 154., 154., 154., 154., 154., 154.,\n",
      "        154., 154., 154., 154., 154., 154., 154., 154., 154., 154., 154.,\n",
      "        154., 154., 154., 154., 154., 154., 154., 154., 154., 154., 154.,\n",
      "        154., 154., 154., 154., 154., 154., 154., 154., 154., 154., 154.,\n",
      "        154., 154., 154., 154., 154., 154., 154., 154., 154., 154., 154.,\n",
      "        154., 154., 154., 154., 154., 154., 154., 154., 154., 154., 154.,\n",
      "        154., 154., 154., 154., 154., 154., 154., 154., 154., 154., 154.,\n",
      "        154., 154., 154., 154., 154., 154., 154., 154., 154., 154., 154.,\n",
      "        154., 154., 154., 154., 154., 154., 154., 154., 154., 154., 154.,\n",
      "        154., 154., 154., 154., 154., 154., 154., 154., 154., 154., 154.,\n",
      "        154., 154., 154., 154., 154., 154., 154., 154., 154., 154., 154.,\n",
      "        154., 154., 154., 154., 154., 154., 154., 154., 154., 154., 154.,\n",
      "        154., 154., 154., 154., 154., 154., 154., 154., 154., 154., 154.,\n",
      "        154., 154., 154., 154., 154., 154., 154., 154., 154., 154., 154.,\n",
      "        154., 154., 154., 154., 154., 154., 154., 154., 154., 154., 154.,\n",
      "        154.],\n",
      "       [  0.,   1.,   2.,   3.,   4.,   5.,   6.,   7.,   8.,   9.,  10.,\n",
      "         11.,  12.,  13.,  14.,  15.,  16.,  17.,  18.,  19.,  20.,  21.,\n",
      "         22.,  23.,  24.,  25.,  26.,  27.,  28.,  29.,  30.,  31.,  32.,\n",
      "         33.,  34.,  35.,  36.,  37.,  38.,  39.,  40.,  41.,  42.,  43.,\n",
      "         44.,  45.,  46.,  47.,  48.,  49.,  50.,  51.,  52.,  53.,  54.,\n",
      "         55.,  56.,  57.,  58.,  59.,  60.,  61.,  62.,  63.,  64.,  65.,\n",
      "         66.,  67.,  68.,  69.,  70.,  71.,  72.,  73.,  74.,  75.,  76.,\n",
      "         77.,  78.,  79.,  80.,  81.,  82.,  83.,  84.,  85.,  86.,  87.,\n",
      "         88.,  89.,  90.,  91.,  92.,  93.,  94.,  95.,  96.,  97.,  98.,\n",
      "         99., 100., 101., 102., 103., 104., 105., 106., 107., 108., 109.,\n",
      "        110., 111., 112., 113., 114., 115., 116., 117., 118., 119., 120.,\n",
      "        121., 122., 123., 124., 125., 126., 127., 128., 129., 130., 131.,\n",
      "        132., 133., 134., 135., 136., 137., 138., 139., 140., 141., 142.,\n",
      "        143., 144., 145., 146., 147., 148., 149., 150., 151., 152., 153.,\n",
      "        154., 155., 156., 157., 158., 159., 160., 161., 162., 163., 164.,\n",
      "        165., 166., 167., 168., 169., 170., 171., 172., 173., 174., 175.,\n",
      "        176., 177., 178., 179., 180., 181., 182., 183., 184., 185., 186.,\n",
      "        187., 188., 189., 190., 191., 192., 193., 194., 195., 196., 197.,\n",
      "        198., 199., 200., 201., 202., 203., 204., 205., 206., 207., 208.,\n",
      "        209., 210., 211., 212., 213., 214., 215., 216., 217., 218., 219.,\n",
      "        220., 221., 222., 223., 224., 225., 226., 227., 228., 229., 230.,\n",
      "        231., 232., 233., 234., 235., 236., 237., 238., 239., 240., 241.,\n",
      "        242., 243., 244., 245., 246., 247., 248., 249., 250., 251., 252.,\n",
      "        253., 254., 255., 256., 257., 258., 259., 260., 261., 262., 263.,\n",
      "        264., 265., 266., 267., 268., 269., 270., 271., 272., 273., 274.,\n",
      "        275., 276., 277., 278., 279., 280., 281., 282., 283., 284., 285.,\n",
      "        286., 287., 288., 289., 290., 291., 292., 293., 294., 295., 296.,\n",
      "        297., 298., 299., 300., 301., 302., 303., 304., 305., 306., 307.,\n",
      "        308., 309., 310., 311., 312., 313., 314., 315., 316., 317., 318.,\n",
      "        319., 320., 321., 322., 323., 324., 325., 326., 327., 328., 329.,\n",
      "        330., 331., 332., 333., 334., 335., 336., 337., 338., 339., 340.,\n",
      "        341., 342., 343., 344., 345., 346., 347., 348., 349., 350., 351.,\n",
      "        352., 353., 354., 355., 356., 357., 358., 359., 360., 361., 362.,\n",
      "        363., 364., 365., 366., 367., 368., 369., 370., 371., 372., 373.,\n",
      "        374., 375., 376., 377., 378., 379., 380., 381., 382., 383., 384.,\n",
      "        385., 386., 387., 388., 389., 390., 391., 392., 393., 394., 395.,\n",
      "        396., 397., 398., 399., 400., 401., 402., 403., 404., 405., 406.,\n",
      "        407., 408., 409., 410., 411., 412., 413., 414., 415., 416., 417.,\n",
      "        418., 419., 420., 421., 422., 423., 424., 425., 426., 427., 428.,\n",
      "        429.]]))\n"
     ]
    }
   ],
   "source": [
    "def get_brightness(alpha):  \n",
    "    # массив для яркости\n",
    "    c = int(math.sqrt(a**2 + b**2))\n",
    "    res = np.zeros(c)\n",
    "    res.fill(255)\n",
    "    # массив для координат\n",
    "    coordinates = np.zeros((2, c))\n",
    "    # координаты известной точки\n",
    "    x_0 = center_line\n",
    "    y_0 = center_column\n",
    "    # направление\n",
    "    a_x = - math.sin(alpha)\n",
    "    a_y = math.cos(alpha)\n",
    "    # случай горизонтального направления\n",
    "    if alpha == 0:\n",
    "        res = img[x_0]\n",
    "        coordinates[0] = x_0\n",
    "        coordinates[1] = np.arange(c)\n",
    "        return res, coordinates\n",
    "    # поиск пределов t\n",
    "    t_1 = math.ceil(max((a - x_0) / a_x, - y_0 / a_y))\n",
    "    t_2 = math.floor(min(- x_0 / a_x, (b - y_0) / a_y))\n",
    "    # тут мы нарисуем направление на картинке\n",
    "    illustration = cv2.imread('spot.png', cv2.IMREAD_COLOR)\n",
    "    # проход по изображению\n",
    "    i = 0\n",
    "    for t in range(t_1 + 1, t_2 - 1):\n",
    "        x = int(x_0 + a_x * t)\n",
    "        y = int(y_0 + a_y * t)\n",
    "        coordinates[0, i] = x\n",
    "        coordinates[1, i] = y\n",
    "        i += 1\n",
    "        res[i] = img[x, y]\n",
    "        illustration[x, y] = 100\n",
    "    cv2.imshow('result', illustration)\n",
    "    cv2.waitKey(0)\n",
    "    cv2.destroyAllWindows()\n",
    "    return res, coordinates\n",
    "\n",
    "print(get_brightness(0))"
   ]
  },
  {
   "cell_type": "markdown",
   "metadata": {},
   "source": [
    "### Теперь попробуем сделать то же самое, но с применением Sobel фильтра"
   ]
  },
  {
   "cell_type": "code",
   "execution_count": 29,
   "metadata": {},
   "outputs": [],
   "source": [
    "s_grad = cv2.Sobel(img, cv2.CV_32F, 1, 1, 5)\n",
    "cv2.imshow('s_grad', s_grad)\n",
    "cv2.waitKey(0)\n",
    "cv2.destroyAllWindows()"
   ]
  },
  {
   "cell_type": "code",
   "execution_count": null,
   "metadata": {},
   "outputs": [],
   "source": []
  }
 ],
 "metadata": {
  "kernelspec": {
   "display_name": "Python 3 (ipykernel)",
   "language": "python",
   "name": "python3"
  },
  "language_info": {
   "codemirror_mode": {
    "name": "ipython",
    "version": 3
   },
   "file_extension": ".py",
   "mimetype": "text/x-python",
   "name": "python",
   "nbconvert_exporter": "python",
   "pygments_lexer": "ipython3",
   "version": "3.8.10"
  }
 },
 "nbformat": 4,
 "nbformat_minor": 4
}
